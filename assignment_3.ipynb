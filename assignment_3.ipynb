{
 "cells": [
  {
   "cell_type": "code",
   "execution_count": null,
   "id": "70dcf8a0",
   "metadata": {},
   "outputs": [],
   "source": [
    "Que.1 why are functions advantageous to have in your programs?\n",
    "\n",
    "ANS- 1. Functions helps in keeping the program short as it avoids the repetition of codes.\n",
    "     2. It makes the program easy to read and understand.\n",
    "     3. since the program is short and easy to read so the chances of error reduces.\n",
    "     4. Modification in programs brecomes easy."
   ]
  },
  {
   "cell_type": "code",
   "execution_count": null,
   "id": "13e344b5",
   "metadata": {},
   "outputs": [],
   "source": [
    "Que.2 When does the code in a function run: when it's specified or when it's called?\n",
    "\n",
    "ANS- Code in a function run when it is called.\n",
    "     when a function is called the program control jumps to that function definition and executes the statements inside the\n",
    "     function body."
   ]
  },
  {
   "cell_type": "code",
   "execution_count": null,
   "id": "49bfaf19",
   "metadata": {},
   "outputs": [],
   "source": [
    "Que.3 What statement creates a function?\n",
    "\n",
    "ANS- The \"def\" keyword is the statement for defining a function.\n",
    "     def keyword is followed by the function name and colon(:)\n",
    "     example--\n",
    "             def functionname():\n",
    "             "
   ]
  },
  {
   "cell_type": "code",
   "execution_count": null,
   "id": "721abe6c",
   "metadata": {},
   "outputs": [],
   "source": [
    "Que.4  What is the difference between Function and function call?\n",
    "\n",
    "ANS-  A function is a block that contains a particular code and returns a result.\n",
    "      It usually accepts inputs as parameters and returns result. parameters are not mandatory.\n",
    "      \n",
    "      In short , A function is procedure to achieve a particular result while function call is using this function\n",
    "      to achieve that task\n",
    "     "
   ]
  },
  {
   "cell_type": "code",
   "execution_count": 7,
   "id": "077e6f26",
   "metadata": {},
   "outputs": [],
   "source": [
    " \n",
    "#example\n",
    "        \n",
    "def add(a,b):\n",
    "    return a+b\n",
    "                   \n",
    "                   \n",
    "#While, function call is the code used to pass control to a function.\n",
    "      \n",
    "x = add(10,19)\n",
    "\n",
    "#now, x will have the value 29 "
   ]
  },
  {
   "cell_type": "code",
   "execution_count": 8,
   "id": "e0474dd3",
   "metadata": {},
   "outputs": [
    {
     "data": {
      "text/plain": [
       "29"
      ]
     },
     "execution_count": 8,
     "metadata": {},
     "output_type": "execute_result"
    }
   ],
   "source": [
    "x"
   ]
  },
  {
   "cell_type": "code",
   "execution_count": null,
   "id": "462bb03b",
   "metadata": {},
   "outputs": [],
   "source": [
    "Que.5 How many global scopes are there in a python program?How many local scopes?\n",
    "\n",
    "ANS- The scope of global variables is the entire program whereas the scope of local variable is limited to the function          where it is defined."
   ]
  },
  {
   "cell_type": "code",
   "execution_count": 10,
   "id": "884e9b26",
   "metadata": {},
   "outputs": [],
   "source": [
    "#example\n",
    "\n",
    "a=7              #global variable\n",
    "def func(a,b):\n",
    "    a=2          #local variable\n",
    "    return a*b"
   ]
  },
  {
   "cell_type": "code",
   "execution_count": 11,
   "id": "26646589",
   "metadata": {},
   "outputs": [
    {
     "data": {
      "text/plain": [
       "12"
      ]
     },
     "execution_count": 11,
     "metadata": {},
     "output_type": "execute_result"
    }
   ],
   "source": [
    "x= func(5,6)\n",
    "x              #here the output is 12 as it is using 2 as the value of a which is a local variable"
   ]
  },
  {
   "cell_type": "code",
   "execution_count": 12,
   "id": "8801eb09",
   "metadata": {},
   "outputs": [
    {
     "data": {
      "text/plain": [
       "7"
      ]
     },
     "execution_count": 12,
     "metadata": {},
     "output_type": "execute_result"
    }
   ],
   "source": [
    "a          #when we call a without using function it gives 7 as the value of 'a' which is a global variable"
   ]
  },
  {
   "cell_type": "code",
   "execution_count": null,
   "id": "2b9dbbbc",
   "metadata": {},
   "outputs": [],
   "source": [
    "Que.6 What happens to variable in a local scope when the function call returns?\n",
    "\n",
    "ANS- A local variable becomes undefined after the function call completes.\n",
    "     A local variable retains its value until the next time the function is called.\n",
    "     "
   ]
  },
  {
   "cell_type": "code",
   "execution_count": null,
   "id": "17ca613f",
   "metadata": {},
   "outputs": [],
   "source": [
    "Que.7 What is the concept of a return value?Is is possible to have a return value in an expression?\n",
    "\n",
    "ANS- A return statement is used to end the execution of the function call and 'returns' the result.\n",
    "     The statement after the return statements are not executed. If the return statement is without any expression,\n",
    "     then the special value NONE is returned.\n",
    "     yes, it is very much possible to have a return value in an expression.\n",
    "      "
   ]
  },
  {
   "cell_type": "code",
   "execution_count": null,
   "id": "1dd90792",
   "metadata": {},
   "outputs": [],
   "source": [
    "Que.8 If a function does not have a return statement, what is the return value of a call to that function?\n",
    "\n",
    "ANS-  when a function does not have a return statement ,it returns NONE.\n",
    "      if we use print instead of return it will perform the operation but type of data that will be produced will be\n",
    "      NONE type and it will be of no use .\n"
   ]
  },
  {
   "cell_type": "code",
   "execution_count": 13,
   "id": "a58e6db7",
   "metadata": {},
   "outputs": [],
   "source": [
    "def function2(a,b):\n",
    "    print(a*b)\n",
    "    "
   ]
  },
  {
   "cell_type": "code",
   "execution_count": 14,
   "id": "4d74e3e9",
   "metadata": {},
   "outputs": [
    {
     "name": "stdout",
     "output_type": "stream",
     "text": [
      "30\n"
     ]
    }
   ],
   "source": [
    "x=function2(6,5)\n",
    "\n"
   ]
  },
  {
   "cell_type": "code",
   "execution_count": 15,
   "id": "b38f3621",
   "metadata": {},
   "outputs": [
    {
     "data": {
      "text/plain": [
       "NoneType"
      ]
     },
     "execution_count": 15,
     "metadata": {},
     "output_type": "execute_result"
    }
   ],
   "source": [
    "type(x)"
   ]
  },
  {
   "cell_type": "code",
   "execution_count": null,
   "id": "09d33c85",
   "metadata": {},
   "outputs": [],
   "source": [
    "Que.9 How do you make a function variable refer to the global variable?\n",
    "\n",
    "ANS- To call global variable inside the function variable , we use a keyword 'global'.\n",
    "     It is used when the local variable has the same name as the global variable\n",
    "     example"
   ]
  },
  {
   "cell_type": "code",
   "execution_count": 16,
   "id": "a9648cb2",
   "metadata": {},
   "outputs": [
    {
     "name": "stdout",
     "output_type": "stream",
     "text": [
      "37\n",
      "3\n"
     ]
    }
   ],
   "source": [
    "num = 37\n",
    " \n",
    "def function():\n",
    "    global num        #refering global variable num inside the function\n",
    "    num = 3           #local variable with the same name num\n",
    "    \n",
    "    \n",
    "print(num)           #it will give 37 as the output which is a global variable\n",
    "\n",
    "function()\n",
    "print(num)           #it will give 3 as the output which is a local variable ."
   ]
  },
  {
   "cell_type": "code",
   "execution_count": null,
   "id": "a244f97e",
   "metadata": {},
   "outputs": [],
   "source": [
    "Que. 10  What is the datatype of None?\n",
    "\n",
    "ANS- None is the datatype of its own, which is used to define null value or no value .\n",
    "     \n",
    "     "
   ]
  },
  {
   "cell_type": "code",
   "execution_count": 17,
   "id": "eff2800c",
   "metadata": {},
   "outputs": [
    {
     "name": "stdout",
     "output_type": "stream",
     "text": [
      "None\n"
     ]
    },
    {
     "data": {
      "text/plain": [
       "NoneType"
      ]
     },
     "execution_count": 17,
     "metadata": {},
     "output_type": "execute_result"
    }
   ],
   "source": [
    "a = None\n",
    "print(a)\n",
    "type(a)"
   ]
  },
  {
   "cell_type": "code",
   "execution_count": null,
   "id": "ce959d0b",
   "metadata": {},
   "outputs": [],
   "source": [
    "Que.11 What does the sentence import areallyourpetsnamederic do?\n",
    "\n",
    "ANS-   import areallyourpetsnamederic will import the module areallyourpetsnamederic , though it is not a real module\n",
    "       in python."
   ]
  },
  {
   "cell_type": "code",
   "execution_count": null,
   "id": "39e72a0c",
   "metadata": {},
   "outputs": [],
   "source": [
    "import areallyourpetsnamederic\n"
   ]
  },
  {
   "cell_type": "code",
   "execution_count": null,
   "id": "a232377b",
   "metadata": {},
   "outputs": [],
   "source": [
    "Que.12 If you had a bacon()feature in spam module,what would you call it after importing spam?\n",
    "\n",
    "ANS- The function can be called with spam.bacon()"
   ]
  },
  {
   "cell_type": "code",
   "execution_count": null,
   "id": "4d721eb3",
   "metadata": {},
   "outputs": [],
   "source": [
    "Que.13 What can you do to save a programme from crashing if it encounters an error?\n",
    "\n",
    "ANS-  To save a programme from crashing in case of an error, we can use \"ERROR HANDLING\".\n",
    "      Error handling notifies the user why the error has occurred.\n",
    "      Error handling can be done in various different ways-\n",
    "      \n",
    "     \n",
    "      \n"
   ]
  },
  {
   "cell_type": "code",
   "execution_count": 1,
   "id": "8a1a97e3",
   "metadata": {},
   "outputs": [
    {
     "name": "stdout",
     "output_type": "stream",
     "text": [
      "Enter any number= 5\n",
      "20.0\n"
     ]
    }
   ],
   "source": [
    "#1 Exception handling using try  except and try-except-finally\n",
    "\n",
    "try:\n",
    "    x=int(input(\"Enter any number= \"))\n",
    "    y = 100/x\n",
    "    \n",
    "except ValueError:    \n",
    "    print(\"Error :- there was an error-\")\n",
    "except zerodivisionError:\n",
    "    print(\"Error: 0 is an invalid number\")\n",
    "    \n",
    "finally:\n",
    "    print(y)\n",
    "    \n"
   ]
  },
  {
   "cell_type": "code",
   "execution_count": null,
   "id": "8562f57c",
   "metadata": {},
   "outputs": [],
   "source": [
    "#2 Assertions evaluate an expression to be true or false.\n",
    "\n",
    "a= 20\n",
    "assert a<10,\"there was an error\""
   ]
  },
  {
   "cell_type": "code",
   "execution_count": null,
   "id": "8178d47f",
   "metadata": {},
   "outputs": [],
   "source": []
  },
  {
   "cell_type": "code",
   "execution_count": null,
   "id": "10513a26",
   "metadata": {},
   "outputs": [],
   "source": [
    "Que.14 What is the purpose of the try clause? What is the purpose of except clause?\n",
    "\n",
    "ANS- Try clause runs the program and it throws an error message instead of crashing the program.\n",
    "   \n",
    "     In the similar manner except is used to obtain exception messages.\n",
    "     we can use multiple exceptions to know various reasons of the error.\n"
   ]
  },
  {
   "cell_type": "code",
   "execution_count": null,
   "id": "f097de1e",
   "metadata": {},
   "outputs": [],
   "source": []
  }
 ],
 "metadata": {
  "kernelspec": {
   "display_name": "Python 3 (ipykernel)",
   "language": "python",
   "name": "python3"
  },
  "language_info": {
   "codemirror_mode": {
    "name": "ipython",
    "version": 3
   },
   "file_extension": ".py",
   "mimetype": "text/x-python",
   "name": "python",
   "nbconvert_exporter": "python",
   "pygments_lexer": "ipython3",
   "version": "3.9.7"
  }
 },
 "nbformat": 4,
 "nbformat_minor": 5
}
